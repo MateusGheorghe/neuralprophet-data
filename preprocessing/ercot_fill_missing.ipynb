{
 "cells": [
  {
   "cell_type": "code",
   "execution_count": 1,
   "id": "7e113230-f78a-4e85-8d98-fe1ab3421b14",
   "metadata": {},
   "outputs": [],
   "source": [
    "import pandas as pd\n",
    "import datetime as dt\n",
    "import numpy as np"
   ]
  },
  {
   "cell_type": "code",
   "execution_count": 2,
   "id": "1fec0d40-da53-4038-b419-e03169181381",
   "metadata": {},
   "outputs": [],
   "source": [
    "filename = '../datasets/' + 'load_ercot.csv'"
   ]
  },
  {
   "cell_type": "code",
   "execution_count": 3,
   "id": "0b2493a7-9b25-4839-bd23-771f3ac38b33",
   "metadata": {},
   "outputs": [
    {
     "data": {
      "text/plain": [
       "154872"
      ]
     },
     "execution_count": 3,
     "metadata": {},
     "output_type": "execute_result"
    }
   ],
   "source": [
    "df_in = pd.read_csv(filename)\n",
    "freq = 'H'\n",
    "len(df_in)"
   ]
  },
  {
   "cell_type": "code",
   "execution_count": 4,
   "id": "7b8f7369-dbaf-44fd-ad88-b555a85387f6",
   "metadata": {},
   "outputs": [
    {
     "data": {
      "text/plain": [
       "0"
      ]
     },
     "execution_count": 4,
     "metadata": {},
     "output_type": "execute_result"
    }
   ],
   "source": [
    "is_na = sum(df_in['y'].isnull())\n",
    "is_na"
   ]
  },
  {
   "cell_type": "markdown",
   "id": "4f67f02b-4650-4008-aeb1-c047c11fd031",
   "metadata": {},
   "source": [
    "## Fill missing Dates"
   ]
  },
  {
   "cell_type": "code",
   "execution_count": 5,
   "id": "21246552-e981-4e2e-bd3c-f9e8a2b4dd03",
   "metadata": {},
   "outputs": [
    {
     "name": "stdout",
     "output_type": "stream",
     "text": [
      "0\n"
     ]
    }
   ],
   "source": [
    "\n",
    "data_len = len(df_in)\n",
    "df = df_in.copy(deep=True)\n",
    "if df[\"ds\"].dtype == np.int64:\n",
    "        df.loc[:, \"ds\"] = df.loc[:, \"ds\"].astype(str)\n",
    "df.loc[:, \"ds\"] = pd.to_datetime(df.loc[:, \"ds\"])\n",
    "\n",
    "r = pd.date_range(start=df[\"ds\"].min(), end=df[\"ds\"].max(), freq=freq)\n",
    "df = df.set_index(\"ds\").reindex(r).rename_axis(\"ds\").reset_index()\n",
    "\n",
    "num_added = len(df) - data_len\n",
    "print(num_added)"
   ]
  },
  {
   "cell_type": "code",
   "execution_count": 6,
   "id": "2e442aee-5a40-46b3-8cdf-b542c59b58d4",
   "metadata": {},
   "outputs": [
    {
     "data": {
      "text/plain": [
       "0"
      ]
     },
     "execution_count": 6,
     "metadata": {},
     "output_type": "execute_result"
    }
   ],
   "source": [
    "is_na = sum(df['y'].isnull())\n",
    "is_na"
   ]
  },
  {
   "cell_type": "markdown",
   "id": "f4550872-ece5-4fa2-8444-75b3347ebc3d",
   "metadata": {
    "tags": []
   },
   "source": [
    "## fill missing values"
   ]
  },
  {
   "cell_type": "code",
   "execution_count": 7,
   "id": "e92c14a8-45f3-4134-baae-41ceb4616d6c",
   "metadata": {},
   "outputs": [],
   "source": [
    "series = df['y']\n",
    "limit_linear = 20"
   ]
  },
  {
   "cell_type": "code",
   "execution_count": 8,
   "id": "ac68cfa2-59d5-4189-8f2a-8b1078ac9d4a",
   "metadata": {},
   "outputs": [],
   "source": [
    "series = series.interpolate(method=\"linear\", limit=limit_linear, limit_direction=\"both\")"
   ]
  },
  {
   "cell_type": "code",
   "execution_count": 9,
   "id": "bb7db07c-ca17-4392-b66a-8b3efcb03d7d",
   "metadata": {},
   "outputs": [
    {
     "data": {
      "text/plain": [
       "0"
      ]
     },
     "execution_count": 9,
     "metadata": {},
     "output_type": "execute_result"
    }
   ],
   "source": [
    "is_na = sum(series.isnull())\n",
    "is_na"
   ]
  },
  {
   "cell_type": "code",
   "execution_count": 10,
   "id": "af5dabe4-d135-4fae-a7cf-482c2d898ca2",
   "metadata": {},
   "outputs": [],
   "source": [
    "df['y'] = series"
   ]
  },
  {
   "cell_type": "code",
   "execution_count": 11,
   "id": "c1b465dd-9878-4538-b6a5-84daae966fcf",
   "metadata": {},
   "outputs": [],
   "source": [
    "is_na = sum(df['y'].isnull())\n",
    "is_naseries = series.interpolate(method=\"linear\", limit=limit_linear, limit_direction=\"both\")"
   ]
  },
  {
   "cell_type": "code",
   "execution_count": 12,
   "id": "ef7b21d7-bcbc-420b-b02e-a46983d76d78",
   "metadata": {},
   "outputs": [],
   "source": [
    "df.to_csv(filename)"
   ]
  },
  {
   "cell_type": "code",
   "execution_count": null,
   "id": "ed34caf1-96cd-4be3-bd68-9486aa27e488",
   "metadata": {},
   "outputs": [],
   "source": []
  }
 ],
 "metadata": {
  "kernelspec": {
   "display_name": "np-dev",
   "language": "python",
   "name": "np-dev"
  },
  "language_info": {
   "codemirror_mode": {
    "name": "ipython",
    "version": 3
   },
   "file_extension": ".py",
   "mimetype": "text/x-python",
   "name": "python",
   "nbconvert_exporter": "python",
   "pygments_lexer": "ipython3",
   "version": "3.9.5"
  }
 },
 "nbformat": 4,
 "nbformat_minor": 5
}
