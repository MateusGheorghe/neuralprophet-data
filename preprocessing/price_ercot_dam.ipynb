{
 "cells": [
  {
   "cell_type": "code",
   "execution_count": 1,
   "id": "d5395a77-f720-4736-999c-cc32cf758077",
   "metadata": {},
   "outputs": [],
   "source": [
    "import pandas as pd\n",
    "import datetime as dt\n",
    "import numpy as np"
   ]
  },
  {
   "cell_type": "code",
   "execution_count": null,
   "id": "2f89f59b-cf76-4d18-9dd3-bf40153664e3",
   "metadata": {},
   "outputs": [],
   "source": []
  },
  {
   "cell_type": "code",
   "execution_count": 2,
   "id": "63132a62-3087-4721-9cdc-958ff3eec95a",
   "metadata": {},
   "outputs": [],
   "source": [
    "df = pd.read_csv('../datasets_raw/'  + 'ERCOT_DAM.csv')\n",
    "freq = \"H\""
   ]
  },
  {
   "cell_type": "code",
   "execution_count": 3,
   "id": "e20c23fa-c89f-440f-a6f3-973fd1b5ccff",
   "metadata": {},
   "outputs": [
    {
     "data": {
      "text/html": [
       "<div>\n",
       "<style scoped>\n",
       "    .dataframe tbody tr th:only-of-type {\n",
       "        vertical-align: middle;\n",
       "    }\n",
       "\n",
       "    .dataframe tbody tr th {\n",
       "        vertical-align: top;\n",
       "    }\n",
       "\n",
       "    .dataframe thead th {\n",
       "        text-align: right;\n",
       "    }\n",
       "</style>\n",
       "<table border=\"1\" class=\"dataframe\">\n",
       "  <thead>\n",
       "    <tr style=\"text-align: right;\">\n",
       "      <th></th>\n",
       "      <th>ds</th>\n",
       "      <th>y</th>\n",
       "      <th>temperature_Houston</th>\n",
       "    </tr>\n",
       "  </thead>\n",
       "  <tbody>\n",
       "    <tr>\n",
       "      <th>0</th>\n",
       "      <td>1/1/15 0:00</td>\n",
       "      <td>22.01</td>\n",
       "      <td>281.113500</td>\n",
       "    </tr>\n",
       "    <tr>\n",
       "      <th>1</th>\n",
       "      <td>1/1/15 10:00</td>\n",
       "      <td>28.33</td>\n",
       "      <td>278.697333</td>\n",
       "    </tr>\n",
       "    <tr>\n",
       "      <th>2</th>\n",
       "      <td>1/1/15 11:00</td>\n",
       "      <td>27.86</td>\n",
       "      <td>278.294667</td>\n",
       "    </tr>\n",
       "    <tr>\n",
       "      <th>3</th>\n",
       "      <td>1/1/15 12:00</td>\n",
       "      <td>25.79</td>\n",
       "      <td>278.352000</td>\n",
       "    </tr>\n",
       "    <tr>\n",
       "      <th>4</th>\n",
       "      <td>1/1/15 13:00</td>\n",
       "      <td>25.34</td>\n",
       "      <td>277.796000</td>\n",
       "    </tr>\n",
       "    <tr>\n",
       "      <th>...</th>\n",
       "      <td>...</td>\n",
       "      <td>...</td>\n",
       "      <td>...</td>\n",
       "    </tr>\n",
       "    <tr>\n",
       "      <th>25529</th>\n",
       "      <td>12/31/16 5:00</td>\n",
       "      <td>12.79</td>\n",
       "      <td>284.510000</td>\n",
       "    </tr>\n",
       "    <tr>\n",
       "      <th>25530</th>\n",
       "      <td>12/31/16 6:00</td>\n",
       "      <td>20.00</td>\n",
       "      <td>284.510000</td>\n",
       "    </tr>\n",
       "    <tr>\n",
       "      <th>25531</th>\n",
       "      <td>12/31/16 7:00</td>\n",
       "      <td>24.09</td>\n",
       "      <td>284.960000</td>\n",
       "    </tr>\n",
       "    <tr>\n",
       "      <th>25532</th>\n",
       "      <td>12/31/16 8:00</td>\n",
       "      <td>23.69</td>\n",
       "      <td>285.140000</td>\n",
       "    </tr>\n",
       "    <tr>\n",
       "      <th>25533</th>\n",
       "      <td>12/31/16 9:00</td>\n",
       "      <td>25.01</td>\n",
       "      <td>285.680000</td>\n",
       "    </tr>\n",
       "  </tbody>\n",
       "</table>\n",
       "<p>25534 rows × 3 columns</p>\n",
       "</div>"
      ],
      "text/plain": [
       "                  ds      y  temperature_Houston\n",
       "0        1/1/15 0:00  22.01           281.113500\n",
       "1       1/1/15 10:00  28.33           278.697333\n",
       "2       1/1/15 11:00  27.86           278.294667\n",
       "3       1/1/15 12:00  25.79           278.352000\n",
       "4       1/1/15 13:00  25.34           277.796000\n",
       "...              ...    ...                  ...\n",
       "25529  12/31/16 5:00  12.79           284.510000\n",
       "25530  12/31/16 6:00  20.00           284.510000\n",
       "25531  12/31/16 7:00  24.09           284.960000\n",
       "25532  12/31/16 8:00  23.69           285.140000\n",
       "25533  12/31/16 9:00  25.01           285.680000\n",
       "\n",
       "[25534 rows x 3 columns]"
      ]
     },
     "execution_count": 3,
     "metadata": {},
     "output_type": "execute_result"
    }
   ],
   "source": [
    "df"
   ]
  },
  {
   "cell_type": "code",
   "execution_count": 4,
   "id": "b216dd90-37b0-43d0-b587-40fa56c0faa0",
   "metadata": {},
   "outputs": [
    {
     "data": {
      "text/html": [
       "<div>\n",
       "<style scoped>\n",
       "    .dataframe tbody tr th:only-of-type {\n",
       "        vertical-align: middle;\n",
       "    }\n",
       "\n",
       "    .dataframe tbody tr th {\n",
       "        vertical-align: top;\n",
       "    }\n",
       "\n",
       "    .dataframe thead th {\n",
       "        text-align: right;\n",
       "    }\n",
       "</style>\n",
       "<table border=\"1\" class=\"dataframe\">\n",
       "  <thead>\n",
       "    <tr style=\"text-align: right;\">\n",
       "      <th></th>\n",
       "      <th>y</th>\n",
       "      <th>temperature_Houston</th>\n",
       "    </tr>\n",
       "  </thead>\n",
       "  <tbody>\n",
       "    <tr>\n",
       "      <th>count</th>\n",
       "      <td>25534.000000</td>\n",
       "      <td>25534.000000</td>\n",
       "    </tr>\n",
       "    <tr>\n",
       "      <th>mean</th>\n",
       "      <td>26.157666</td>\n",
       "      <td>294.950493</td>\n",
       "    </tr>\n",
       "    <tr>\n",
       "      <th>std</th>\n",
       "      <td>26.807511</td>\n",
       "      <td>7.377139</td>\n",
       "    </tr>\n",
       "    <tr>\n",
       "      <th>min</th>\n",
       "      <td>1.260000</td>\n",
       "      <td>267.570000</td>\n",
       "    </tr>\n",
       "    <tr>\n",
       "      <th>25%</th>\n",
       "      <td>18.172500</td>\n",
       "      <td>290.680000</td>\n",
       "    </tr>\n",
       "    <tr>\n",
       "      <th>50%</th>\n",
       "      <td>22.280000</td>\n",
       "      <td>296.287167</td>\n",
       "    </tr>\n",
       "    <tr>\n",
       "      <th>75%</th>\n",
       "      <td>28.510000</td>\n",
       "      <td>299.988750</td>\n",
       "    </tr>\n",
       "    <tr>\n",
       "      <th>max</th>\n",
       "      <td>2239.950000</td>\n",
       "      <td>312.640000</td>\n",
       "    </tr>\n",
       "  </tbody>\n",
       "</table>\n",
       "</div>"
      ],
      "text/plain": [
       "                  y  temperature_Houston\n",
       "count  25534.000000         25534.000000\n",
       "mean      26.157666           294.950493\n",
       "std       26.807511             7.377139\n",
       "min        1.260000           267.570000\n",
       "25%       18.172500           290.680000\n",
       "50%       22.280000           296.287167\n",
       "75%       28.510000           299.988750\n",
       "max     2239.950000           312.640000"
      ]
     },
     "execution_count": 4,
     "metadata": {},
     "output_type": "execute_result"
    }
   ],
   "source": [
    "df.describe()"
   ]
  },
  {
   "cell_type": "code",
   "execution_count": 5,
   "id": "785306b3-ab2b-4931-af9c-3efc2240748f",
   "metadata": {},
   "outputs": [],
   "source": [
    "if df[\"ds\"].dtype == np.int64:\n",
    "        df.loc[:, \"ds\"] = df.loc[:, \"ds\"].astype(str)\n",
    "df.loc[:, \"ds\"] = pd.to_datetime(df.loc[:, \"ds\"])\n",
    "df = df.set_index(\"ds\")"
   ]
  },
  {
   "cell_type": "code",
   "execution_count": 6,
   "id": "da238580-de49-4bd3-9445-89a7bc0beeff",
   "metadata": {},
   "outputs": [
    {
     "data": {
      "text/html": [
       "<div>\n",
       "<style scoped>\n",
       "    .dataframe tbody tr th:only-of-type {\n",
       "        vertical-align: middle;\n",
       "    }\n",
       "\n",
       "    .dataframe tbody tr th {\n",
       "        vertical-align: top;\n",
       "    }\n",
       "\n",
       "    .dataframe thead th {\n",
       "        text-align: right;\n",
       "    }\n",
       "</style>\n",
       "<table border=\"1\" class=\"dataframe\">\n",
       "  <thead>\n",
       "    <tr style=\"text-align: right;\">\n",
       "      <th></th>\n",
       "      <th>y</th>\n",
       "      <th>temperature_Houston</th>\n",
       "    </tr>\n",
       "    <tr>\n",
       "      <th>ds</th>\n",
       "      <th></th>\n",
       "      <th></th>\n",
       "    </tr>\n",
       "  </thead>\n",
       "  <tbody>\n",
       "    <tr>\n",
       "      <th>2015-01-01 00:00:00</th>\n",
       "      <td>22.01</td>\n",
       "      <td>281.113500</td>\n",
       "    </tr>\n",
       "    <tr>\n",
       "      <th>2015-01-01 10:00:00</th>\n",
       "      <td>28.33</td>\n",
       "      <td>278.697333</td>\n",
       "    </tr>\n",
       "    <tr>\n",
       "      <th>2015-01-01 11:00:00</th>\n",
       "      <td>27.86</td>\n",
       "      <td>278.294667</td>\n",
       "    </tr>\n",
       "    <tr>\n",
       "      <th>2015-01-01 12:00:00</th>\n",
       "      <td>25.79</td>\n",
       "      <td>278.352000</td>\n",
       "    </tr>\n",
       "    <tr>\n",
       "      <th>2015-01-01 13:00:00</th>\n",
       "      <td>25.34</td>\n",
       "      <td>277.796000</td>\n",
       "    </tr>\n",
       "    <tr>\n",
       "      <th>...</th>\n",
       "      <td>...</td>\n",
       "      <td>...</td>\n",
       "    </tr>\n",
       "    <tr>\n",
       "      <th>2016-12-31 05:00:00</th>\n",
       "      <td>12.79</td>\n",
       "      <td>284.510000</td>\n",
       "    </tr>\n",
       "    <tr>\n",
       "      <th>2016-12-31 06:00:00</th>\n",
       "      <td>20.00</td>\n",
       "      <td>284.510000</td>\n",
       "    </tr>\n",
       "    <tr>\n",
       "      <th>2016-12-31 07:00:00</th>\n",
       "      <td>24.09</td>\n",
       "      <td>284.960000</td>\n",
       "    </tr>\n",
       "    <tr>\n",
       "      <th>2016-12-31 08:00:00</th>\n",
       "      <td>23.69</td>\n",
       "      <td>285.140000</td>\n",
       "    </tr>\n",
       "    <tr>\n",
       "      <th>2016-12-31 09:00:00</th>\n",
       "      <td>25.01</td>\n",
       "      <td>285.680000</td>\n",
       "    </tr>\n",
       "  </tbody>\n",
       "</table>\n",
       "<p>25534 rows × 2 columns</p>\n",
       "</div>"
      ],
      "text/plain": [
       "                         y  temperature_Houston\n",
       "ds                                             \n",
       "2015-01-01 00:00:00  22.01           281.113500\n",
       "2015-01-01 10:00:00  28.33           278.697333\n",
       "2015-01-01 11:00:00  27.86           278.294667\n",
       "2015-01-01 12:00:00  25.79           278.352000\n",
       "2015-01-01 13:00:00  25.34           277.796000\n",
       "...                    ...                  ...\n",
       "2016-12-31 05:00:00  12.79           284.510000\n",
       "2016-12-31 06:00:00  20.00           284.510000\n",
       "2016-12-31 07:00:00  24.09           284.960000\n",
       "2016-12-31 08:00:00  23.69           285.140000\n",
       "2016-12-31 09:00:00  25.01           285.680000\n",
       "\n",
       "[25534 rows x 2 columns]"
      ]
     },
     "execution_count": 6,
     "metadata": {},
     "output_type": "execute_result"
    }
   ],
   "source": [
    "df"
   ]
  },
  {
   "cell_type": "code",
   "execution_count": 7,
   "id": "7c785f8b-b317-43f3-9ea7-7111a78ec88b",
   "metadata": {},
   "outputs": [
    {
     "data": {
      "text/plain": [
       "<AxesSubplot:xlabel='ds'>"
      ]
     },
     "execution_count": 7,
     "metadata": {},
     "output_type": "execute_result"
    },
    {
     "data": {
      "image/png": "[encoded data removed]",
      "text/plain": [
       "<Figure size 432x288 with 1 Axes>"
      ]
     },
     "metadata": {
      "needs_background": "light"
     },
     "output_type": "display_data"
    }
   ],
   "source": [
    "df.plot()"
   ]
  },
  {
   "cell_type": "code",
   "execution_count": 8,
   "id": "92f0c3e4-a1a4-44cc-a11e-bdc81e511fa9",
   "metadata": {},
   "outputs": [
    {
     "name": "stdout",
     "output_type": "stream",
     "text": [
      "0\n"
     ]
    }
   ],
   "source": [
    "is_na = sum(df['y'].isnull())\n",
    "print(is_na)"
   ]
  },
  {
   "cell_type": "code",
   "execution_count": 9,
   "id": "656482ac-0ce4-41d1-806b-b18da30ff33f",
   "metadata": {},
   "outputs": [
    {
     "name": "stdout",
     "output_type": "stream",
     "text": [
      "0\n"
     ]
    }
   ],
   "source": [
    "is_na = sum(df['temperature_Houston'].isnull())\n",
    "print(is_na)"
   ]
  },
  {
   "cell_type": "code",
   "execution_count": 10,
   "id": "2717fc64-e09b-4358-95d4-7532df6bc449",
   "metadata": {},
   "outputs": [
    {
     "data": {
      "text/html": [
       "<div>\n",
       "<style scoped>\n",
       "    .dataframe tbody tr th:only-of-type {\n",
       "        vertical-align: middle;\n",
       "    }\n",
       "\n",
       "    .dataframe tbody tr th {\n",
       "        vertical-align: top;\n",
       "    }\n",
       "\n",
       "    .dataframe thead th {\n",
       "        text-align: right;\n",
       "    }\n",
       "</style>\n",
       "<table border=\"1\" class=\"dataframe\">\n",
       "  <thead>\n",
       "    <tr style=\"text-align: right;\">\n",
       "      <th></th>\n",
       "      <th>y</th>\n",
       "      <th>temperature_Houston</th>\n",
       "    </tr>\n",
       "    <tr>\n",
       "      <th>ds</th>\n",
       "      <th></th>\n",
       "      <th></th>\n",
       "    </tr>\n",
       "  </thead>\n",
       "  <tbody>\n",
       "    <tr>\n",
       "      <th>2015-01-01 00:00:00</th>\n",
       "      <td>22.01</td>\n",
       "      <td>281.113500</td>\n",
       "    </tr>\n",
       "    <tr>\n",
       "      <th>2015-01-01 10:00:00</th>\n",
       "      <td>28.33</td>\n",
       "      <td>278.697333</td>\n",
       "    </tr>\n",
       "    <tr>\n",
       "      <th>2015-01-01 11:00:00</th>\n",
       "      <td>27.86</td>\n",
       "      <td>278.294667</td>\n",
       "    </tr>\n",
       "    <tr>\n",
       "      <th>2015-01-01 12:00:00</th>\n",
       "      <td>25.79</td>\n",
       "      <td>278.352000</td>\n",
       "    </tr>\n",
       "    <tr>\n",
       "      <th>2015-01-01 13:00:00</th>\n",
       "      <td>25.34</td>\n",
       "      <td>277.796000</td>\n",
       "    </tr>\n",
       "    <tr>\n",
       "      <th>...</th>\n",
       "      <td>...</td>\n",
       "      <td>...</td>\n",
       "    </tr>\n",
       "    <tr>\n",
       "      <th>2016-12-31 05:00:00</th>\n",
       "      <td>12.79</td>\n",
       "      <td>284.510000</td>\n",
       "    </tr>\n",
       "    <tr>\n",
       "      <th>2016-12-31 06:00:00</th>\n",
       "      <td>20.00</td>\n",
       "      <td>284.510000</td>\n",
       "    </tr>\n",
       "    <tr>\n",
       "      <th>2016-12-31 07:00:00</th>\n",
       "      <td>24.09</td>\n",
       "      <td>284.960000</td>\n",
       "    </tr>\n",
       "    <tr>\n",
       "      <th>2016-12-31 08:00:00</th>\n",
       "      <td>23.69</td>\n",
       "      <td>285.140000</td>\n",
       "    </tr>\n",
       "    <tr>\n",
       "      <th>2016-12-31 09:00:00</th>\n",
       "      <td>25.01</td>\n",
       "      <td>285.680000</td>\n",
       "    </tr>\n",
       "  </tbody>\n",
       "</table>\n",
       "<p>25534 rows × 2 columns</p>\n",
       "</div>"
      ],
      "text/plain": [
       "                         y  temperature_Houston\n",
       "ds                                             \n",
       "2015-01-01 00:00:00  22.01           281.113500\n",
       "2015-01-01 10:00:00  28.33           278.697333\n",
       "2015-01-01 11:00:00  27.86           278.294667\n",
       "2015-01-01 12:00:00  25.79           278.352000\n",
       "2015-01-01 13:00:00  25.34           277.796000\n",
       "...                    ...                  ...\n",
       "2016-12-31 05:00:00  12.79           284.510000\n",
       "2016-12-31 06:00:00  20.00           284.510000\n",
       "2016-12-31 07:00:00  24.09           284.960000\n",
       "2016-12-31 08:00:00  23.69           285.140000\n",
       "2016-12-31 09:00:00  25.01           285.680000\n",
       "\n",
       "[25534 rows x 2 columns]"
      ]
     },
     "execution_count": 10,
     "metadata": {},
     "output_type": "execute_result"
    }
   ],
   "source": [
    "## resample to potentially avoid missing values?\n",
    "df_re = df\n",
    "df_re.resample('H').mean()\n",
    "\n",
    "# df_re['ds'] = df_re.index.values\n",
    "df_re = df_re[['y', 'temperature_Houston']]\n",
    "df_re"
   ]
  },
  {
   "cell_type": "code",
   "execution_count": 11,
   "id": "a73f680d-bf61-4bc4-b262-f584caa9d905",
   "metadata": {},
   "outputs": [
    {
     "data": {
      "text/plain": [
       "0.0"
      ]
     },
     "execution_count": 11,
     "metadata": {},
     "output_type": "execute_result"
    }
   ],
   "source": [
    "sum(abs(df['y'] - df_re['y']))"
   ]
  },
  {
   "cell_type": "code",
   "execution_count": 12,
   "id": "5fe2c564-4a2b-4951-ab57-968089943f82",
   "metadata": {},
   "outputs": [
    {
     "data": {
      "text/plain": [
       "0.0"
      ]
     },
     "execution_count": 12,
     "metadata": {},
     "output_type": "execute_result"
    }
   ],
   "source": [
    "sum(abs(df['temperature_Houston'] - df_re['temperature_Houston']))"
   ]
  },
  {
   "cell_type": "markdown",
   "id": "f1cb6a83-a534-4823-9309-1c7ea3683acd",
   "metadata": {},
   "source": [
    "## Fill missing Dates"
   ]
  },
  {
   "cell_type": "code",
   "execution_count": 13,
   "id": "7ed16121-2a16-4d8b-acee-c686f64babcb",
   "metadata": {},
   "outputs": [
    {
     "data": {
      "text/html": [
       "<div>\n",
       "<style scoped>\n",
       "    .dataframe tbody tr th:only-of-type {\n",
       "        vertical-align: middle;\n",
       "    }\n",
       "\n",
       "    .dataframe tbody tr th {\n",
       "        vertical-align: top;\n",
       "    }\n",
       "\n",
       "    .dataframe thead th {\n",
       "        text-align: right;\n",
       "    }\n",
       "</style>\n",
       "<table border=\"1\" class=\"dataframe\">\n",
       "  <thead>\n",
       "    <tr style=\"text-align: right;\">\n",
       "      <th></th>\n",
       "      <th>y</th>\n",
       "      <th>temperature_Houston</th>\n",
       "    </tr>\n",
       "    <tr>\n",
       "      <th>ds</th>\n",
       "      <th></th>\n",
       "      <th></th>\n",
       "    </tr>\n",
       "  </thead>\n",
       "  <tbody>\n",
       "    <tr>\n",
       "      <th>2015-01-01 00:00:00</th>\n",
       "      <td>22.01</td>\n",
       "      <td>281.113500</td>\n",
       "    </tr>\n",
       "    <tr>\n",
       "      <th>2015-01-01 10:00:00</th>\n",
       "      <td>28.33</td>\n",
       "      <td>278.697333</td>\n",
       "    </tr>\n",
       "    <tr>\n",
       "      <th>2015-01-01 11:00:00</th>\n",
       "      <td>27.86</td>\n",
       "      <td>278.294667</td>\n",
       "    </tr>\n",
       "    <tr>\n",
       "      <th>2015-01-01 12:00:00</th>\n",
       "      <td>25.79</td>\n",
       "      <td>278.352000</td>\n",
       "    </tr>\n",
       "    <tr>\n",
       "      <th>2015-01-01 13:00:00</th>\n",
       "      <td>25.34</td>\n",
       "      <td>277.796000</td>\n",
       "    </tr>\n",
       "    <tr>\n",
       "      <th>...</th>\n",
       "      <td>...</td>\n",
       "      <td>...</td>\n",
       "    </tr>\n",
       "    <tr>\n",
       "      <th>2016-12-31 05:00:00</th>\n",
       "      <td>12.79</td>\n",
       "      <td>284.510000</td>\n",
       "    </tr>\n",
       "    <tr>\n",
       "      <th>2016-12-31 06:00:00</th>\n",
       "      <td>20.00</td>\n",
       "      <td>284.510000</td>\n",
       "    </tr>\n",
       "    <tr>\n",
       "      <th>2016-12-31 07:00:00</th>\n",
       "      <td>24.09</td>\n",
       "      <td>284.960000</td>\n",
       "    </tr>\n",
       "    <tr>\n",
       "      <th>2016-12-31 08:00:00</th>\n",
       "      <td>23.69</td>\n",
       "      <td>285.140000</td>\n",
       "    </tr>\n",
       "    <tr>\n",
       "      <th>2016-12-31 09:00:00</th>\n",
       "      <td>25.01</td>\n",
       "      <td>285.680000</td>\n",
       "    </tr>\n",
       "  </tbody>\n",
       "</table>\n",
       "<p>25534 rows × 2 columns</p>\n",
       "</div>"
      ],
      "text/plain": [
       "                         y  temperature_Houston\n",
       "ds                                             \n",
       "2015-01-01 00:00:00  22.01           281.113500\n",
       "2015-01-01 10:00:00  28.33           278.697333\n",
       "2015-01-01 11:00:00  27.86           278.294667\n",
       "2015-01-01 12:00:00  25.79           278.352000\n",
       "2015-01-01 13:00:00  25.34           277.796000\n",
       "...                    ...                  ...\n",
       "2016-12-31 05:00:00  12.79           284.510000\n",
       "2016-12-31 06:00:00  20.00           284.510000\n",
       "2016-12-31 07:00:00  24.09           284.960000\n",
       "2016-12-31 08:00:00  23.69           285.140000\n",
       "2016-12-31 09:00:00  25.01           285.680000\n",
       "\n",
       "[25534 rows x 2 columns]"
      ]
     },
     "execution_count": 13,
     "metadata": {},
     "output_type": "execute_result"
    }
   ],
   "source": [
    "df"
   ]
  },
  {
   "cell_type": "code",
   "execution_count": 14,
   "id": "bc4624e9-b2a9-4345-8588-73aaaf65fd94",
   "metadata": {},
   "outputs": [
    {
     "name": "stdout",
     "output_type": "stream",
     "text": [
      "3\n"
     ]
    }
   ],
   "source": [
    "data_len = len(df)\n",
    "df_copy = df.copy(deep=True)\n",
    "r = pd.date_range(start=df.index.min(), end=df.index.max(), freq=freq)\n",
    "df = df.reindex(r).rename_axis(\"ds\")\n",
    "num_added = len(df) - data_len\n",
    "print(num_added)"
   ]
  },
  {
   "cell_type": "code",
   "execution_count": 15,
   "id": "657a6579-d9c1-472f-8e1b-2867779cb4f7",
   "metadata": {},
   "outputs": [
    {
     "data": {
      "text/html": [
       "<div>\n",
       "<style scoped>\n",
       "    .dataframe tbody tr th:only-of-type {\n",
       "        vertical-align: middle;\n",
       "    }\n",
       "\n",
       "    .dataframe tbody tr th {\n",
       "        vertical-align: top;\n",
       "    }\n",
       "\n",
       "    .dataframe thead th {\n",
       "        text-align: right;\n",
       "    }\n",
       "</style>\n",
       "<table border=\"1\" class=\"dataframe\">\n",
       "  <thead>\n",
       "    <tr style=\"text-align: right;\">\n",
       "      <th></th>\n",
       "      <th>y</th>\n",
       "      <th>temperature_Houston</th>\n",
       "    </tr>\n",
       "    <tr>\n",
       "      <th>ds</th>\n",
       "      <th></th>\n",
       "      <th></th>\n",
       "    </tr>\n",
       "  </thead>\n",
       "  <tbody>\n",
       "    <tr>\n",
       "      <th>2015-01-01 00:00:00</th>\n",
       "      <td>22.01</td>\n",
       "      <td>281.113500</td>\n",
       "    </tr>\n",
       "    <tr>\n",
       "      <th>2015-01-01 01:00:00</th>\n",
       "      <td>21.39</td>\n",
       "      <td>280.601667</td>\n",
       "    </tr>\n",
       "    <tr>\n",
       "      <th>2015-01-01 02:00:00</th>\n",
       "      <td>21.00</td>\n",
       "      <td>280.253333</td>\n",
       "    </tr>\n",
       "    <tr>\n",
       "      <th>2015-01-01 03:00:00</th>\n",
       "      <td>20.72</td>\n",
       "      <td>280.198000</td>\n",
       "    </tr>\n",
       "    <tr>\n",
       "      <th>2015-01-01 04:00:00</th>\n",
       "      <td>21.18</td>\n",
       "      <td>279.752000</td>\n",
       "    </tr>\n",
       "    <tr>\n",
       "      <th>...</th>\n",
       "      <td>...</td>\n",
       "      <td>...</td>\n",
       "    </tr>\n",
       "    <tr>\n",
       "      <th>2017-11-29 20:00:00</th>\n",
       "      <td>24.97</td>\n",
       "      <td>295.150000</td>\n",
       "    </tr>\n",
       "    <tr>\n",
       "      <th>2017-11-29 21:00:00</th>\n",
       "      <td>23.55</td>\n",
       "      <td>295.820000</td>\n",
       "    </tr>\n",
       "    <tr>\n",
       "      <th>2017-11-29 22:00:00</th>\n",
       "      <td>22.41</td>\n",
       "      <td>296.370000</td>\n",
       "    </tr>\n",
       "    <tr>\n",
       "      <th>2017-11-29 23:00:00</th>\n",
       "      <td>19.64</td>\n",
       "      <td>294.650000</td>\n",
       "    </tr>\n",
       "    <tr>\n",
       "      <th>2017-11-30 00:00:00</th>\n",
       "      <td>18.40</td>\n",
       "      <td>291.440000</td>\n",
       "    </tr>\n",
       "  </tbody>\n",
       "</table>\n",
       "<p>25537 rows × 2 columns</p>\n",
       "</div>"
      ],
      "text/plain": [
       "                         y  temperature_Houston\n",
       "ds                                             \n",
       "2015-01-01 00:00:00  22.01           281.113500\n",
       "2015-01-01 01:00:00  21.39           280.601667\n",
       "2015-01-01 02:00:00  21.00           280.253333\n",
       "2015-01-01 03:00:00  20.72           280.198000\n",
       "2015-01-01 04:00:00  21.18           279.752000\n",
       "...                    ...                  ...\n",
       "2017-11-29 20:00:00  24.97           295.150000\n",
       "2017-11-29 21:00:00  23.55           295.820000\n",
       "2017-11-29 22:00:00  22.41           296.370000\n",
       "2017-11-29 23:00:00  19.64           294.650000\n",
       "2017-11-30 00:00:00  18.40           291.440000\n",
       "\n",
       "[25537 rows x 2 columns]"
      ]
     },
     "execution_count": 15,
     "metadata": {},
     "output_type": "execute_result"
    }
   ],
   "source": [
    "df"
   ]
  },
  {
   "cell_type": "code",
   "execution_count": 16,
   "id": "968bb469-9a92-40a2-87b0-97b86b9b4d27",
   "metadata": {},
   "outputs": [
    {
     "data": {
      "text/plain": [
       "3"
      ]
     },
     "execution_count": 16,
     "metadata": {},
     "output_type": "execute_result"
    }
   ],
   "source": [
    "is_na = sum(df['y'].isnull())\n",
    "is_na"
   ]
  },
  {
   "cell_type": "code",
   "execution_count": 17,
   "id": "8783676b-2e17-494e-9bdd-663e03a44efb",
   "metadata": {},
   "outputs": [
    {
     "data": {
      "text/plain": [
       "3"
      ]
     },
     "execution_count": 17,
     "metadata": {},
     "output_type": "execute_result"
    }
   ],
   "source": [
    "is_na = sum(df['temperature_Houston'].isnull())\n",
    "is_na"
   ]
  },
  {
   "cell_type": "code",
   "execution_count": 18,
   "id": "7812bbd3-0231-4d8c-a038-e6fa769673bf",
   "metadata": {},
   "outputs": [
    {
     "data": {
      "text/plain": [
       "[numpy.datetime64('2016-03-13T02:00:00.000000000'),\n",
       " numpy.datetime64('2015-03-08T02:00:00.000000000'),\n",
       " numpy.datetime64('2017-03-12T02:00:00.000000000')]"
      ]
     },
     "execution_count": 18,
     "metadata": {},
     "output_type": "execute_result"
    }
   ],
   "source": [
    "list(set(df.index.values) - set(df_copy.index.values))"
   ]
  },
  {
   "cell_type": "markdown",
   "id": "3606d5f2-ba79-4485-ad1a-136f5d0e6dc9",
   "metadata": {
    "tags": []
   },
   "source": [
    "## fill missing values"
   ]
  },
  {
   "cell_type": "code",
   "execution_count": 19,
   "id": "08443ad2-159d-4643-99e0-40abb2ea0127",
   "metadata": {},
   "outputs": [],
   "source": [
    "def fill_missing(df, col, limit_linear=20):\n",
    "    is_na = sum(df[col].isnull())\n",
    "    print(\"is na :\", is_na)\n",
    "    series = df[col]\n",
    "    series = series.interpolate(method=\"linear\", limit=limit_linear, limit_direction=\"both\")\n",
    "    df[col] = series\n",
    "    is_na = sum(df[col].isnull())\n",
    "    print(\"remaining na :\", is_na)\n",
    "    return df"
   ]
  },
  {
   "cell_type": "code",
   "execution_count": 20,
   "id": "1e5c215f-7dfd-41fb-bb57-cf0817e1d3ef",
   "metadata": {},
   "outputs": [
    {
     "name": "stdout",
     "output_type": "stream",
     "text": [
      "is na : 3\n",
      "remaining na : 0\n"
     ]
    }
   ],
   "source": [
    "df = fill_missing(df, 'y')"
   ]
  },
  {
   "cell_type": "code",
   "execution_count": 21,
   "id": "a77b78bc-49b1-4cf2-8131-e4f128f9bebd",
   "metadata": {},
   "outputs": [
    {
     "name": "stdout",
     "output_type": "stream",
     "text": [
      "is na : 3\n",
      "remaining na : 0\n"
     ]
    }
   ],
   "source": [
    "df = fill_missing(df, 'temperature_Houston')"
   ]
  },
  {
   "cell_type": "markdown",
   "id": "e1327108-da39-4d08-ab85-9288c795f801",
   "metadata": {
    "tags": []
   },
   "source": [
    "## log price, temp in celsius"
   ]
  },
  {
   "cell_type": "code",
   "execution_count": 22,
   "id": "857374d5-b059-41b1-a1fa-8b8832d43bad",
   "metadata": {},
   "outputs": [
    {
     "data": {
      "text/html": [
       "<div>\n",
       "<style scoped>\n",
       "    .dataframe tbody tr th:only-of-type {\n",
       "        vertical-align: middle;\n",
       "    }\n",
       "\n",
       "    .dataframe tbody tr th {\n",
       "        vertical-align: top;\n",
       "    }\n",
       "\n",
       "    .dataframe thead th {\n",
       "        text-align: right;\n",
       "    }\n",
       "</style>\n",
       "<table border=\"1\" class=\"dataframe\">\n",
       "  <thead>\n",
       "    <tr style=\"text-align: right;\">\n",
       "      <th></th>\n",
       "      <th>y</th>\n",
       "      <th>temp_celsius_houston</th>\n",
       "    </tr>\n",
       "    <tr>\n",
       "      <th>ds</th>\n",
       "      <th></th>\n",
       "      <th></th>\n",
       "    </tr>\n",
       "  </thead>\n",
       "  <tbody>\n",
       "    <tr>\n",
       "      <th>2015-01-01 00:00:00</th>\n",
       "      <td>22.01</td>\n",
       "      <td>7.963500</td>\n",
       "    </tr>\n",
       "    <tr>\n",
       "      <th>2015-01-01 01:00:00</th>\n",
       "      <td>21.39</td>\n",
       "      <td>7.451667</td>\n",
       "    </tr>\n",
       "    <tr>\n",
       "      <th>2015-01-01 02:00:00</th>\n",
       "      <td>21.00</td>\n",
       "      <td>7.103333</td>\n",
       "    </tr>\n",
       "    <tr>\n",
       "      <th>2015-01-01 03:00:00</th>\n",
       "      <td>20.72</td>\n",
       "      <td>7.048000</td>\n",
       "    </tr>\n",
       "    <tr>\n",
       "      <th>2015-01-01 04:00:00</th>\n",
       "      <td>21.18</td>\n",
       "      <td>6.602000</td>\n",
       "    </tr>\n",
       "    <tr>\n",
       "      <th>...</th>\n",
       "      <td>...</td>\n",
       "      <td>...</td>\n",
       "    </tr>\n",
       "    <tr>\n",
       "      <th>2017-11-29 20:00:00</th>\n",
       "      <td>24.97</td>\n",
       "      <td>22.000000</td>\n",
       "    </tr>\n",
       "    <tr>\n",
       "      <th>2017-11-29 21:00:00</th>\n",
       "      <td>23.55</td>\n",
       "      <td>22.670000</td>\n",
       "    </tr>\n",
       "    <tr>\n",
       "      <th>2017-11-29 22:00:00</th>\n",
       "      <td>22.41</td>\n",
       "      <td>23.220000</td>\n",
       "    </tr>\n",
       "    <tr>\n",
       "      <th>2017-11-29 23:00:00</th>\n",
       "      <td>19.64</td>\n",
       "      <td>21.500000</td>\n",
       "    </tr>\n",
       "    <tr>\n",
       "      <th>2017-11-30 00:00:00</th>\n",
       "      <td>18.40</td>\n",
       "      <td>18.290000</td>\n",
       "    </tr>\n",
       "  </tbody>\n",
       "</table>\n",
       "<p>25537 rows × 2 columns</p>\n",
       "</div>"
      ],
      "text/plain": [
       "                         y  temp_celsius_houston\n",
       "ds                                              \n",
       "2015-01-01 00:00:00  22.01              7.963500\n",
       "2015-01-01 01:00:00  21.39              7.451667\n",
       "2015-01-01 02:00:00  21.00              7.103333\n",
       "2015-01-01 03:00:00  20.72              7.048000\n",
       "2015-01-01 04:00:00  21.18              6.602000\n",
       "...                    ...                   ...\n",
       "2017-11-29 20:00:00  24.97             22.000000\n",
       "2017-11-29 21:00:00  23.55             22.670000\n",
       "2017-11-29 22:00:00  22.41             23.220000\n",
       "2017-11-29 23:00:00  19.64             21.500000\n",
       "2017-11-30 00:00:00  18.40             18.290000\n",
       "\n",
       "[25537 rows x 2 columns]"
      ]
     },
     "execution_count": 22,
     "metadata": {},
     "output_type": "execute_result"
    }
   ],
   "source": [
    "df['temp_celsius_houston'] = df['temperature_Houston'].values -273.15\n",
    "df = df.drop(columns=['temperature_Houston'])\n",
    "df"
   ]
  },
  {
   "cell_type": "code",
   "execution_count": 23,
   "id": "b0e64244-3c5b-4bdf-ae08-1e2186f4f053",
   "metadata": {},
   "outputs": [],
   "source": [
    "df_log = df.copy(deep=True)\n",
    "df_log['y'] = np.log(df['y'].values)"
   ]
  },
  {
   "cell_type": "code",
   "execution_count": 24,
   "id": "fe29fc77-95ec-44f0-8be8-ffc1bb8f563c",
   "metadata": {},
   "outputs": [
    {
     "data": {
      "text/plain": [
       "<AxesSubplot:xlabel='ds'>"
      ]
     },
     "execution_count": 24,
     "metadata": {},
     "output_type": "execute_result"
    },
    {
     "data": {
      "image/png": "[encoded data removed]",
      "text/plain": [
       "<Figure size 432x288 with 1 Axes>"
      ]
     },
     "metadata": {
      "needs_background": "light"
     },
     "output_type": "display_data"
    }
   ],
   "source": [
    "df['y'].plot()"
   ]
  },
  {
   "cell_type": "code",
   "execution_count": 25,
   "id": "b2b3cb08-c823-4dba-8dfd-90ba47ce3a76",
   "metadata": {},
   "outputs": [
    {
     "data": {
      "text/plain": [
       "<AxesSubplot:xlabel='ds'>"
      ]
     },
     "execution_count": 25,
     "metadata": {},
     "output_type": "execute_result"
    },
    {
     "data": {
      "image/png": "[encoded data removed]",
      "text/plain": [
       "<Figure size 432x288 with 1 Axes>"
      ]
     },
     "metadata": {
      "needs_background": "light"
     },
     "output_type": "display_data"
    }
   ],
   "source": [
    "df_log['y'].plot()"
   ]
  },
  {
   "cell_type": "code",
   "execution_count": 26,
   "id": "bbb8299e-84fe-46ac-a1c0-44b1f041a3e8",
   "metadata": {},
   "outputs": [
    {
     "data": {
      "text/plain": [
       "<AxesSubplot:xlabel='ds'>"
      ]
     },
     "execution_count": 26,
     "metadata": {},
     "output_type": "execute_result"
    },
    {
     "data": {
      "image/png": "[encoded data removed]",
      "text/plain": [
       "<Figure size 432x288 with 1 Axes>"
      ]
     },
     "metadata": {
      "needs_background": "light"
     },
     "output_type": "display_data"
    }
   ],
   "source": [
    "df['temp_celsius_houston'].plot()"
   ]
  },
  {
   "cell_type": "code",
   "execution_count": null,
   "id": "0173d312-d927-4644-b666-259c4fdceb6e",
   "metadata": {},
   "outputs": [],
   "source": []
  },
  {
   "cell_type": "code",
   "execution_count": null,
   "id": "4eff22b9-7346-40e2-8455-a3fdc42cdbac",
   "metadata": {},
   "outputs": [],
   "source": []
  },
  {
   "cell_type": "code",
   "execution_count": 27,
   "id": "583ad961-8be4-474e-acec-e0fee1cf5d07",
   "metadata": {},
   "outputs": [
    {
     "data": {
      "text/html": [
       "<div>\n",
       "<style scoped>\n",
       "    .dataframe tbody tr th:only-of-type {\n",
       "        vertical-align: middle;\n",
       "    }\n",
       "\n",
       "    .dataframe tbody tr th {\n",
       "        vertical-align: top;\n",
       "    }\n",
       "\n",
       "    .dataframe thead th {\n",
       "        text-align: right;\n",
       "    }\n",
       "</style>\n",
       "<table border=\"1\" class=\"dataframe\">\n",
       "  <thead>\n",
       "    <tr style=\"text-align: right;\">\n",
       "      <th></th>\n",
       "      <th>ds</th>\n",
       "      <th>y</th>\n",
       "      <th>temp_celsius_houston</th>\n",
       "    </tr>\n",
       "  </thead>\n",
       "  <tbody>\n",
       "    <tr>\n",
       "      <th>0</th>\n",
       "      <td>2015-01-01 00:00:00</td>\n",
       "      <td>22.01</td>\n",
       "      <td>7.963500</td>\n",
       "    </tr>\n",
       "    <tr>\n",
       "      <th>1</th>\n",
       "      <td>2015-01-01 01:00:00</td>\n",
       "      <td>21.39</td>\n",
       "      <td>7.451667</td>\n",
       "    </tr>\n",
       "    <tr>\n",
       "      <th>2</th>\n",
       "      <td>2015-01-01 02:00:00</td>\n",
       "      <td>21.00</td>\n",
       "      <td>7.103333</td>\n",
       "    </tr>\n",
       "    <tr>\n",
       "      <th>3</th>\n",
       "      <td>2015-01-01 03:00:00</td>\n",
       "      <td>20.72</td>\n",
       "      <td>7.048000</td>\n",
       "    </tr>\n",
       "    <tr>\n",
       "      <th>4</th>\n",
       "      <td>2015-01-01 04:00:00</td>\n",
       "      <td>21.18</td>\n",
       "      <td>6.602000</td>\n",
       "    </tr>\n",
       "    <tr>\n",
       "      <th>...</th>\n",
       "      <td>...</td>\n",
       "      <td>...</td>\n",
       "      <td>...</td>\n",
       "    </tr>\n",
       "    <tr>\n",
       "      <th>25532</th>\n",
       "      <td>2017-11-29 20:00:00</td>\n",
       "      <td>24.97</td>\n",
       "      <td>22.000000</td>\n",
       "    </tr>\n",
       "    <tr>\n",
       "      <th>25533</th>\n",
       "      <td>2017-11-29 21:00:00</td>\n",
       "      <td>23.55</td>\n",
       "      <td>22.670000</td>\n",
       "    </tr>\n",
       "    <tr>\n",
       "      <th>25534</th>\n",
       "      <td>2017-11-29 22:00:00</td>\n",
       "      <td>22.41</td>\n",
       "      <td>23.220000</td>\n",
       "    </tr>\n",
       "    <tr>\n",
       "      <th>25535</th>\n",
       "      <td>2017-11-29 23:00:00</td>\n",
       "      <td>19.64</td>\n",
       "      <td>21.500000</td>\n",
       "    </tr>\n",
       "    <tr>\n",
       "      <th>25536</th>\n",
       "      <td>2017-11-30 00:00:00</td>\n",
       "      <td>18.40</td>\n",
       "      <td>18.290000</td>\n",
       "    </tr>\n",
       "  </tbody>\n",
       "</table>\n",
       "<p>25537 rows × 3 columns</p>\n",
       "</div>"
      ],
      "text/plain": [
       "                       ds      y  temp_celsius_houston\n",
       "0     2015-01-01 00:00:00  22.01              7.963500\n",
       "1     2015-01-01 01:00:00  21.39              7.451667\n",
       "2     2015-01-01 02:00:00  21.00              7.103333\n",
       "3     2015-01-01 03:00:00  20.72              7.048000\n",
       "4     2015-01-01 04:00:00  21.18              6.602000\n",
       "...                   ...    ...                   ...\n",
       "25532 2017-11-29 20:00:00  24.97             22.000000\n",
       "25533 2017-11-29 21:00:00  23.55             22.670000\n",
       "25534 2017-11-29 22:00:00  22.41             23.220000\n",
       "25535 2017-11-29 23:00:00  19.64             21.500000\n",
       "25536 2017-11-30 00:00:00  18.40             18.290000\n",
       "\n",
       "[25537 rows x 3 columns]"
      ]
     },
     "execution_count": 27,
     "metadata": {},
     "output_type": "execute_result"
    }
   ],
   "source": [
    "df['ds'] = df.index.values\n",
    "df = df.reset_index(drop=True)\n",
    "df = df[['ds', 'y', 'temp_celsius_houston']]\n",
    "df"
   ]
  },
  {
   "cell_type": "code",
   "execution_count": 28,
   "id": "9d50a6dc-fd48-46ff-9597-fced031698ff",
   "metadata": {},
   "outputs": [
    {
     "data": {
      "text/html": [
       "<div>\n",
       "<style scoped>\n",
       "    .dataframe tbody tr th:only-of-type {\n",
       "        vertical-align: middle;\n",
       "    }\n",
       "\n",
       "    .dataframe tbody tr th {\n",
       "        vertical-align: top;\n",
       "    }\n",
       "\n",
       "    .dataframe thead th {\n",
       "        text-align: right;\n",
       "    }\n",
       "</style>\n",
       "<table border=\"1\" class=\"dataframe\">\n",
       "  <thead>\n",
       "    <tr style=\"text-align: right;\">\n",
       "      <th></th>\n",
       "      <th>ds</th>\n",
       "      <th>y</th>\n",
       "      <th>temp_celsius_houston</th>\n",
       "    </tr>\n",
       "  </thead>\n",
       "  <tbody>\n",
       "    <tr>\n",
       "      <th>0</th>\n",
       "      <td>2015-01-01 00:00:00</td>\n",
       "      <td>3.091497</td>\n",
       "      <td>7.963500</td>\n",
       "    </tr>\n",
       "    <tr>\n",
       "      <th>1</th>\n",
       "      <td>2015-01-01 01:00:00</td>\n",
       "      <td>3.062924</td>\n",
       "      <td>7.451667</td>\n",
       "    </tr>\n",
       "    <tr>\n",
       "      <th>2</th>\n",
       "      <td>2015-01-01 02:00:00</td>\n",
       "      <td>3.044522</td>\n",
       "      <td>7.103333</td>\n",
       "    </tr>\n",
       "    <tr>\n",
       "      <th>3</th>\n",
       "      <td>2015-01-01 03:00:00</td>\n",
       "      <td>3.031099</td>\n",
       "      <td>7.048000</td>\n",
       "    </tr>\n",
       "    <tr>\n",
       "      <th>4</th>\n",
       "      <td>2015-01-01 04:00:00</td>\n",
       "      <td>3.053057</td>\n",
       "      <td>6.602000</td>\n",
       "    </tr>\n",
       "    <tr>\n",
       "      <th>...</th>\n",
       "      <td>...</td>\n",
       "      <td>...</td>\n",
       "      <td>...</td>\n",
       "    </tr>\n",
       "    <tr>\n",
       "      <th>25532</th>\n",
       "      <td>2017-11-29 20:00:00</td>\n",
       "      <td>3.217675</td>\n",
       "      <td>22.000000</td>\n",
       "    </tr>\n",
       "    <tr>\n",
       "      <th>25533</th>\n",
       "      <td>2017-11-29 21:00:00</td>\n",
       "      <td>3.159126</td>\n",
       "      <td>22.670000</td>\n",
       "    </tr>\n",
       "    <tr>\n",
       "      <th>25534</th>\n",
       "      <td>2017-11-29 22:00:00</td>\n",
       "      <td>3.109507</td>\n",
       "      <td>23.220000</td>\n",
       "    </tr>\n",
       "    <tr>\n",
       "      <th>25535</th>\n",
       "      <td>2017-11-29 23:00:00</td>\n",
       "      <td>2.977568</td>\n",
       "      <td>21.500000</td>\n",
       "    </tr>\n",
       "    <tr>\n",
       "      <th>25536</th>\n",
       "      <td>2017-11-30 00:00:00</td>\n",
       "      <td>2.912351</td>\n",
       "      <td>18.290000</td>\n",
       "    </tr>\n",
       "  </tbody>\n",
       "</table>\n",
       "<p>25537 rows × 3 columns</p>\n",
       "</div>"
      ],
      "text/plain": [
       "                       ds         y  temp_celsius_houston\n",
       "0     2015-01-01 00:00:00  3.091497              7.963500\n",
       "1     2015-01-01 01:00:00  3.062924              7.451667\n",
       "2     2015-01-01 02:00:00  3.044522              7.103333\n",
       "3     2015-01-01 03:00:00  3.031099              7.048000\n",
       "4     2015-01-01 04:00:00  3.053057              6.602000\n",
       "...                   ...       ...                   ...\n",
       "25532 2017-11-29 20:00:00  3.217675             22.000000\n",
       "25533 2017-11-29 21:00:00  3.159126             22.670000\n",
       "25534 2017-11-29 22:00:00  3.109507             23.220000\n",
       "25535 2017-11-29 23:00:00  2.977568             21.500000\n",
       "25536 2017-11-30 00:00:00  2.912351             18.290000\n",
       "\n",
       "[25537 rows x 3 columns]"
      ]
     },
     "execution_count": 28,
     "metadata": {},
     "output_type": "execute_result"
    }
   ],
   "source": [
    "df_log['ds'] = df_log.index.values\n",
    "df_log = df_log.reset_index(drop=True)\n",
    "df_log = df_log[['ds', 'y', 'temp_celsius_houston']]\n",
    "df_log"
   ]
  },
  {
   "cell_type": "markdown",
   "id": "8bc075af-3d58-4e72-b3bc-7c4ec4cd9219",
   "metadata": {},
   "source": [
    "## Save"
   ]
  },
  {
   "cell_type": "code",
   "execution_count": 29,
   "id": "fce486f3-30f0-4caa-b01b-c377c0950acc",
   "metadata": {},
   "outputs": [],
   "source": [
    "df.to_csv('../datasets/'  + 'price_ercot_dam.csv', index=False, float_format=\"%.2f\")"
   ]
  },
  {
   "cell_type": "code",
   "execution_count": 30,
   "id": "c87516a4-433a-462d-995e-737c3c823e39",
   "metadata": {},
   "outputs": [],
   "source": [
    "df_log.to_csv('../datasets/'  + 'price_log_ercot_dam.csv', index=False, float_format=\"%.2f\")"
   ]
  }
 ],
 "metadata": {
  "kernelspec": {
   "display_name": "np-dev",
   "language": "python",
   "name": "np-dev"
  },
  "language_info": {
   "codemirror_mode": {
    "name": "ipython",
    "version": 3
   },
   "file_extension": ".py",
   "mimetype": "text/x-python",
   "name": "python",
   "nbconvert_exporter": "python",
   "pygments_lexer": "ipython3",
   "version": "3.9.5"
  }
 },
 "nbformat": 4,
 "nbformat_minor": 5
}
